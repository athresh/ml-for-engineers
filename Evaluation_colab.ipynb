{
  "nbformat": 4,
  "nbformat_minor": 0,
  "metadata": {
    "colab": {
      "name": "Evaluation.ipynb",
      "provenance": [],
      "collapsed_sections": [],
      "authorship_tag": "ABX9TyMaCWAdqOLyxFQlRtaeFW05",
      "include_colab_link": true
    },
    "kernelspec": {
      "name": "python3",
      "display_name": "Python 3"
    },
    "language_info": {
      "name": "python"
    }
  },
  "cells": [
    {
      "cell_type": "markdown",
      "metadata": {
        "id": "view-in-github",
        "colab_type": "text"
      },
      "source": [
        "<a href=\"https://colab.research.google.com/github/athresh/ml-for-engineers/blob/master/Evaluation_colab.ipynb\" target=\"_parent\"><img src=\"https://colab.research.google.com/assets/colab-badge.svg\" alt=\"Open In Colab\"/></a>"
      ]
    },
    {
      "cell_type": "code",
      "metadata": {
        "colab": {
          "base_uri": "https://localhost:8080/",
          "height": 328
        },
        "id": "MQxUSDenPanr",
        "outputId": "ea4069da-e48f-4e5e-d904-d7b6b343f52c"
      },
      "source": [
        "import pandas as pd\n",
        "import numpy as np\n",
        "import matplotlib.pyplot as plt\n",
        "%matplotlib inline\n",
        "\n",
        "url = 'https://raw.githubusercontent.com/athresh/ml-for-engineers/master/datasets/diabetes.csv'\n",
        "data = pd.read_csv(url)\n",
        "data.describe().T"
      ],
      "execution_count": 2,
      "outputs": [
        {
          "output_type": "execute_result",
          "data": {
            "text/html": [
              "<div>\n",
              "<style scoped>\n",
              "    .dataframe tbody tr th:only-of-type {\n",
              "        vertical-align: middle;\n",
              "    }\n",
              "\n",
              "    .dataframe tbody tr th {\n",
              "        vertical-align: top;\n",
              "    }\n",
              "\n",
              "    .dataframe thead th {\n",
              "        text-align: right;\n",
              "    }\n",
              "</style>\n",
              "<table border=\"1\" class=\"dataframe\">\n",
              "  <thead>\n",
              "    <tr style=\"text-align: right;\">\n",
              "      <th></th>\n",
              "      <th>count</th>\n",
              "      <th>mean</th>\n",
              "      <th>std</th>\n",
              "      <th>min</th>\n",
              "      <th>25%</th>\n",
              "      <th>50%</th>\n",
              "      <th>75%</th>\n",
              "      <th>max</th>\n",
              "    </tr>\n",
              "  </thead>\n",
              "  <tbody>\n",
              "    <tr>\n",
              "      <th>Pregnancies</th>\n",
              "      <td>768.0</td>\n",
              "      <td>3.845052</td>\n",
              "      <td>3.369578</td>\n",
              "      <td>0.000</td>\n",
              "      <td>1.00000</td>\n",
              "      <td>3.0000</td>\n",
              "      <td>6.00000</td>\n",
              "      <td>17.00</td>\n",
              "    </tr>\n",
              "    <tr>\n",
              "      <th>Glucose</th>\n",
              "      <td>768.0</td>\n",
              "      <td>120.894531</td>\n",
              "      <td>31.972618</td>\n",
              "      <td>0.000</td>\n",
              "      <td>99.00000</td>\n",
              "      <td>117.0000</td>\n",
              "      <td>140.25000</td>\n",
              "      <td>199.00</td>\n",
              "    </tr>\n",
              "    <tr>\n",
              "      <th>BloodPressure</th>\n",
              "      <td>768.0</td>\n",
              "      <td>69.105469</td>\n",
              "      <td>19.355807</td>\n",
              "      <td>0.000</td>\n",
              "      <td>62.00000</td>\n",
              "      <td>72.0000</td>\n",
              "      <td>80.00000</td>\n",
              "      <td>122.00</td>\n",
              "    </tr>\n",
              "    <tr>\n",
              "      <th>SkinThickness</th>\n",
              "      <td>768.0</td>\n",
              "      <td>20.536458</td>\n",
              "      <td>15.952218</td>\n",
              "      <td>0.000</td>\n",
              "      <td>0.00000</td>\n",
              "      <td>23.0000</td>\n",
              "      <td>32.00000</td>\n",
              "      <td>99.00</td>\n",
              "    </tr>\n",
              "    <tr>\n",
              "      <th>Insulin</th>\n",
              "      <td>768.0</td>\n",
              "      <td>79.799479</td>\n",
              "      <td>115.244002</td>\n",
              "      <td>0.000</td>\n",
              "      <td>0.00000</td>\n",
              "      <td>30.5000</td>\n",
              "      <td>127.25000</td>\n",
              "      <td>846.00</td>\n",
              "    </tr>\n",
              "    <tr>\n",
              "      <th>BMI</th>\n",
              "      <td>768.0</td>\n",
              "      <td>31.992578</td>\n",
              "      <td>7.884160</td>\n",
              "      <td>0.000</td>\n",
              "      <td>27.30000</td>\n",
              "      <td>32.0000</td>\n",
              "      <td>36.60000</td>\n",
              "      <td>67.10</td>\n",
              "    </tr>\n",
              "    <tr>\n",
              "      <th>DiabetesPedigreeFunction</th>\n",
              "      <td>768.0</td>\n",
              "      <td>0.471876</td>\n",
              "      <td>0.331329</td>\n",
              "      <td>0.078</td>\n",
              "      <td>0.24375</td>\n",
              "      <td>0.3725</td>\n",
              "      <td>0.62625</td>\n",
              "      <td>2.42</td>\n",
              "    </tr>\n",
              "    <tr>\n",
              "      <th>Age</th>\n",
              "      <td>768.0</td>\n",
              "      <td>33.240885</td>\n",
              "      <td>11.760232</td>\n",
              "      <td>21.000</td>\n",
              "      <td>24.00000</td>\n",
              "      <td>29.0000</td>\n",
              "      <td>41.00000</td>\n",
              "      <td>81.00</td>\n",
              "    </tr>\n",
              "    <tr>\n",
              "      <th>Outcome</th>\n",
              "      <td>768.0</td>\n",
              "      <td>0.348958</td>\n",
              "      <td>0.476951</td>\n",
              "      <td>0.000</td>\n",
              "      <td>0.00000</td>\n",
              "      <td>0.0000</td>\n",
              "      <td>1.00000</td>\n",
              "      <td>1.00</td>\n",
              "    </tr>\n",
              "  </tbody>\n",
              "</table>\n",
              "</div>"
            ],
            "text/plain": [
              "                          count        mean  ...        75%     max\n",
              "Pregnancies               768.0    3.845052  ...    6.00000   17.00\n",
              "Glucose                   768.0  120.894531  ...  140.25000  199.00\n",
              "BloodPressure             768.0   69.105469  ...   80.00000  122.00\n",
              "SkinThickness             768.0   20.536458  ...   32.00000   99.00\n",
              "Insulin                   768.0   79.799479  ...  127.25000  846.00\n",
              "BMI                       768.0   31.992578  ...   36.60000   67.10\n",
              "DiabetesPedigreeFunction  768.0    0.471876  ...    0.62625    2.42\n",
              "Age                       768.0   33.240885  ...   41.00000   81.00\n",
              "Outcome                   768.0    0.348958  ...    1.00000    1.00\n",
              "\n",
              "[9 rows x 8 columns]"
            ]
          },
          "metadata": {},
          "execution_count": 2
        }
      ]
    },
    {
      "cell_type": "code",
      "metadata": {
        "id": "2OOBAsv-VvMm"
      },
      "source": [
        "hist = data.hist(figsize=(30,30))"
      ],
      "execution_count": null,
      "outputs": []
    },
    {
      "cell_type": "code",
      "metadata": {
        "id": "81C_s3eaVwOf"
      },
      "source": [
        "data_cleaned = data.copy(deep=True)\n",
        "data_cleaned[['Glucose','BloodPressure','SkinThickness','Insulin','BMI']] = data_cleaned[['Glucose','BloodPressure','SkinThickness','Insulin','BMI']].replace(0,np.NaN)\n",
        "data_cleaned['Glucose'].fillna(data_cleaned['Glucose'].mean(), inplace=True)\n",
        "data_cleaned['BloodPressure'].fillna(data_cleaned['BloodPressure'].mean(), inplace=True)\n",
        "data_cleaned['SkinThickness'].fillna(data_cleaned['SkinThickness'].median(), inplace=True)\n",
        "data_cleaned['Insulin'].fillna(data_cleaned['Insulin'].median(), inplace=True)\n",
        "data_cleaned['BMI'].fillna(data_cleaned['BMI'].median(), inplace=True)\n",
        "\n",
        "data_cleaned.describe().T"
      ],
      "execution_count": null,
      "outputs": []
    },
    {
      "cell_type": "code",
      "metadata": {
        "id": "DVJKTKvCVyki"
      },
      "source": [
        "hist = data_cleaned.hist(figsize=(30,30))"
      ],
      "execution_count": null,
      "outputs": []
    },
    {
      "cell_type": "code",
      "metadata": {
        "id": "2_5JikYyV0MU"
      },
      "source": [
        "from sklearn import tree\n",
        "from sklearn.model_selection import train_test_split\n",
        "from sklearn import metrics\n",
        "cols_X = ['Pregnancies','Glucose','BloodPressure','SkinThickness','Insulin','BMI','DiabetesPedigreeFunction','Age']\n",
        "cols_y = ['Outcome']\n",
        "X,y = data_cleaned[cols_X], data_cleaned[cols_y[0]]\n",
        "X_train, X_test, y_train, y_test = train_test_split(X, y, test_size=0.2, random_state=42, stratify=y)\n",
        "model = tree.DecisionTreeClassifier(max_depth=3)\n",
        "model = model.fit(X_train, y_train);\n",
        "print(\"Training complete\")"
      ],
      "execution_count": null,
      "outputs": []
    },
    {
      "cell_type": "code",
      "metadata": {
        "id": "2oTeA64jV1i3"
      },
      "source": [
        "import graphviz\n",
        "dot_data = tree.export_graphviz(model, out_file=None, feature_names=cols_X, class_names=cols_y[0], filled=True, rounded=True, special_characters=True)\n",
        "graph = graphviz.Source(dot_data)\n",
        "graph"
      ],
      "execution_count": null,
      "outputs": []
    },
    {
      "cell_type": "code",
      "metadata": {
        "id": "_N_61vDFV25G"
      },
      "source": [
        "pred_test = model.predict(X_test)\n",
        "pred_train = model.predict(X_train)\n",
        "acc_test = metrics.accuracy_score(y_test, pred_test)\n",
        "acc_train = metrics.accuracy_score(y_train,pred_train)\n",
        "print(\"Accuracy on test set={}\".format(acc_test))\n",
        "print(\"Accuracy on train set={}\".format(acc_train))"
      ],
      "execution_count": null,
      "outputs": []
    },
    {
      "cell_type": "code",
      "metadata": {
        "id": "-6RfgWiqV4EV"
      },
      "source": [
        "report_test = metrics.classification_report(y_test, pred_test)\n",
        "print(report_test)"
      ],
      "execution_count": null,
      "outputs": []
    },
    {
      "cell_type": "code",
      "metadata": {
        "id": "vd0OI6FrV4-3"
      },
      "source": [
        "report_train = metrics.classification_report(y_train, pred_train)\n",
        "print(report_train)"
      ],
      "execution_count": null,
      "outputs": []
    },
    {
      "cell_type": "code",
      "metadata": {
        "id": "SpLEuAk8V57A"
      },
      "source": [
        "import seaborn as sns\n",
        "confusion_matrix_test = metrics.confusion_matrix(y_test, pred_test)\n",
        "p = sns.heatmap(pd.DataFrame(confusion_matrix_test), annot=True, cmap=\"YlGnBu\", fmt=\"g\")\n",
        "plt.title('Confusion matrix')\n",
        "plt.ylabel('Actual value')\n",
        "plt.xlabel('Predicted value')"
      ],
      "execution_count": null,
      "outputs": []
    },
    {
      "cell_type": "code",
      "metadata": {
        "id": "4SzmK-3iV7Fq"
      },
      "source": [
        "from sklearn.metrics import roc_curve, roc_auc_score, auc\n",
        "y_pred_prob = model.predict_proba(X_test)[:,1]\n",
        "fpr, tpr, thr = roc_curve(y_test, y_pred_prob)\n",
        "roc_auc = auc(fpr, tpr)\n",
        "plt.figure()\n",
        "lw = 2\n",
        "plt.plot(fpr, tpr, color='blue', lw=lw, label='ROC curve(area={})'.format(roc_auc))\n",
        "plt.plot([0,1], [0,1], color='navy', lw=lw)\n",
        "plt.xlim([0.0, 1.0])\n",
        "plt.ylim([0.0, 1.05])\n",
        "plt.xlabel('False Positive Rate')\n",
        "plt.ylabel('True Positive Rate')\n",
        "plt.title('ROC curve')\n",
        "plt.legend(loc='lower right')\n",
        "plt.show()"
      ],
      "execution_count": null,
      "outputs": []
    },
    {
      "cell_type": "code",
      "metadata": {
        "id": "kjiCz1KbV8Q5"
      },
      "source": [
        "from sklearn.model_selection import StratifiedKFold\n",
        "# X_train, X_val, y_train, y_val = train_test_split(X_train, y_train, test_size=0.2, random_state=42)\n",
        "kf = StratifiedKFold(n_splits=10)\n",
        "X_train_copy = X_train.copy(deep=True)\n",
        "y_train_copy = y_train.copy(deep=True)\n",
        "acc_max = 0\n",
        "for max_depth in range(1,20):\n",
        "    acc=[]\n",
        "    for train_index, val_index in kf.split(X_train_copy, y_train_copy):\n",
        "        X_train_cv, X_val = X_train_copy.iloc[train_index], X_train_copy.iloc[val_index]\n",
        "        y_train_cv, y_val = y_train_copy.iloc[train_index], y_train_copy.iloc[val_index]\n",
        "        model = tree.DecisionTreeClassifier(max_depth=max_depth)\n",
        "        model = model.fit(X_train_cv, y_train_cv)\n",
        "        pred_val = model.predict(X_val)\n",
        "        acc_cur = metrics.accuracy_score(y_val, pred_val)\n",
        "        acc.append(acc_cur)\n",
        "#     print(acc)\n",
        "    print(\"Accuracy with max tree depth of {} = {}\".format(max_depth, np.mean(acc)))\n",
        "    if np.mean(acc) > acc_max:\n",
        "        acc_max = np.mean(acc)\n",
        "        max_depth_best = max_depth\n",
        "print(\"Best max tree depth value based on cross validation = {}\".format(max_depth_best))\n",
        "model = tree.DecisionTreeClassifier(max_depth=max_depth_best)\n",
        "model = model.fit(X_train, y_train)\n",
        "pred_test = model.predict(X_test)\n",
        "acc_test = metrics.accuracy_score(y_test, pred_test)\n",
        "print(\"Accuracy on test set = {}\".format(acc_test))"
      ],
      "execution_count": null,
      "outputs": []
    },
    {
      "cell_type": "code",
      "metadata": {
        "id": "icW44lo7V9lV"
      },
      "source": [
        "pred_test = (model.predict_proba(X_test)[:,1] >= 0.5).astype(bool)\n",
        "report_test = metrics.classification_report(y_test, pred_test)\n",
        "print(report_test)"
      ],
      "execution_count": null,
      "outputs": []
    }
  ]
}